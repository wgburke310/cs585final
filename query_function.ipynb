{
 "cells": [
  {
   "cell_type": "code",
   "execution_count": null,
   "metadata": {},
   "outputs": [],
   "source": [
    "import requests\n",
    "\n",
    "project = \"cs585-final-project\"\n",
    "func_name = \"hello-function\"\n",
    "\n",
    "url = f\"https://us-central1-cs585-final-project.cloudfunctions.net/test-model\"\n",
    "# param = {\"model\": \"random_forest_classifier_bow.pth\"}\n",
    "param = {\"first\": \"Jason\", \"last\": \"Dykstra\"}\n",
    "\n",
    "r = requests.post(url, json=param)\n",
    "print(r.text)"
   ]
  }
 ],
 "metadata": {
  "kernelspec": {
   "display_name": "Python 3",
   "language": "python",
   "name": "python3"
  },
  "language_info": {
   "name": "python",
   "version": "3.9.1 (default, Mar  9 2022, 16:29:28) \n[Clang 13.0.0 (clang-1300.0.27.3)]"
  },
  "orig_nbformat": 4,
  "vscode": {
   "interpreter": {
    "hash": "55827584c9f2e18e7af3c3bb18834a7a9055c57ce49ebfcd02e392412ec100af"
   }
  }
 },
 "nbformat": 4,
 "nbformat_minor": 2
}
